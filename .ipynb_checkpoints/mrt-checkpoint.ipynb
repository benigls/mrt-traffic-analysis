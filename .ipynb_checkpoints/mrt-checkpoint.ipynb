{
 "cells": [
  {
   "cell_type": "markdown",
   "metadata": {},
   "source": [
    "# MRT Line 3 Passenger Traffic (2012-2014) Analysis"
   ]
  },
  {
   "cell_type": "markdown",
   "metadata": {},
   "source": [
    "[Dataset Link](http://data.gov.ph/dataset/metro-rail-transit-line-3-passenger-traffic-daily)"
   ]
  },
  {
   "cell_type": "markdown",
   "metadata": {},
   "source": [
    "# Notes\n",
    "\n",
    "- for this dataset the day starts at *03:00* and ends at *02:59*\n",
    "- for **2014** data it ends on **august 31**\n",
    "- for every station their are **entry** and **exit** value"
   ]
  },
  {
   "cell_type": "markdown",
   "metadata": {},
   "source": [
    "## Questions\n",
    "\n",
    "- [What station has the highest number of people to enter and drop-off?](#What-station-has-the-highest-number-of-people-to-enter-and-drop-off?)\n",
    "- [What day usually people use MRT?](#What-day-usually-people-use-MRT?)\n",
    "- [For every hour what station has the highest number of people to enter and leave?](#For-every-hour-what-station-has-the-highest-number-of-people-to-enter-and-leave?)\n",
    "- What direction usually people go? From north to south or vice versa?\n",
    "- What percentage of people in metro manila are using mrt?\n",
    "- Does holidays affect mrt traffic?\n",
    "- Does payday affect mrt traffic?\n",
    "\n",
    "\n",
    "## Graphs\n",
    "\n",
    "- Yearly line graph of daily traffic of mrt\n",
    "- Line graph of traffic of every station per year\n",
    "- \n",
    "\n",
    "\n",
    "## Model\n",
    "\n",
    "- Create model to predict the number of people to entry and exit in a station for a specific hour\n"
   ]
  },
  {
   "cell_type": "code",
   "execution_count": 127,
   "metadata": {},
   "outputs": [],
   "source": [
    "import datetime\n",
    "from itertools import groupby\n",
    "\n",
    "import pandas as pd\n",
    "import numpy as np\n",
    "import matplotlib.pyplot as plt\n",
    "import seaborn as sb\n",
    "\n",
    "%matplotlib inline"
   ]
  },
  {
   "cell_type": "code",
   "execution_count": 128,
   "metadata": {},
   "outputs": [],
   "source": [
    "# import datasets\n",
    "data_2012 = pd.read_csv('datasets/metro-rail-transit-line-3-passenger-traffic-daily-All-2017-10-28_2023/2012_mrt_hourly_daily_ridership 2.csv')\n",
    "data_2013 = pd.read_csv('datasets/metro-rail-transit-line-3-passenger-traffic-daily-All-2017-10-28_2023/2013_mrt_hourly_daily_ridership.csv')\n",
    "data_2014 = pd.read_csv('datasets/metro-rail-transit-line-3-passenger-traffic-daily-All-2017-10-28_2023/2014_mrt_hourly_daily_ridership.csv')"
   ]
  },
  {
   "cell_type": "code",
   "execution_count": 129,
   "metadata": {
    "collapsed": true
   },
   "outputs": [],
   "source": [
    "# add year for each data_*\n",
    "# so when i merge this later on i still have a reference for the year\n",
    "data_2012['year'] = 2012\n",
    "data_2013['year'] = 2013\n",
    "data_2014['year'] = 2014"
   ]
  },
  {
   "cell_type": "code",
   "execution_count": 130,
   "metadata": {
    "collapsed": true
   },
   "outputs": [],
   "source": [
    "# remove unnecessary columns in data_2012 so the columns are the same with data_2013 and data_2014\n",
    "del data_2012['Unnamed: 29']\n",
    "del data_2012['Unnamed: 30']"
   ]
  },
  {
   "cell_type": "code",
   "execution_count": 131,
   "metadata": {},
   "outputs": [
    {
     "data": {
      "text/plain": [
       "True"
      ]
     },
     "execution_count": 131,
     "metadata": {},
     "output_type": "execute_result"
    }
   ],
   "source": [
    "# check if the columns of 3 datasets are the same\n",
    "data_2012.columns.tolist() == data_2013.columns.tolist() == data_2013.columns.tolist()"
   ]
  },
  {
   "cell_type": "code",
   "execution_count": 132,
   "metadata": {
    "collapsed": true
   },
   "outputs": [],
   "source": [
    "# for data_2013, some of the day column has only a value in the start of the day\n",
    "# in order to solve this\n",
    "\n",
    "current_day = 1\n",
    "\n",
    "def get_day(day):\n",
    "    # set global_current to use in this scope\n",
    "    global current_day\n",
    "    \n",
    "    # when day is null return the current_day (last day that occured)\n",
    "    if pd.isnull(day):\n",
    "        return current_day\n",
    "    \n",
    "    # when day is not null store it in current_day (last day that occured)\n",
    "    current_day = day\n",
    "    \n",
    "    return current_day\n",
    "\n",
    "data_2013['day'] = data_2013['day'].apply(lambda d: get_day(d))"
   ]
  },
  {
   "cell_type": "code",
   "execution_count": 133,
   "metadata": {},
   "outputs": [
    {
     "data": {
      "text/plain": [
       "{False}"
      ]
     },
     "execution_count": 133,
     "metadata": {},
     "output_type": "execute_result"
    }
   ],
   "source": [
    "# check if there still null in data_2013['day']\n",
    "set(data_2013['day'].isnull())"
   ]
  },
  {
   "cell_type": "code",
   "execution_count": 134,
   "metadata": {
    "collapsed": true
   },
   "outputs": [],
   "source": [
    "# update data_2013 day columns to integer\n",
    "data_2013['day'] = data_2013['day'].apply(lambda d: int(d))"
   ]
  },
  {
   "cell_type": "code",
   "execution_count": 135,
   "metadata": {
    "collapsed": true
   },
   "outputs": [],
   "source": [
    "# merge datasets\n",
    "dataset = pd.concat([data_2012, data_2013, data_2014])\n",
    "dataset = dataset.reset_index(drop=True)"
   ]
  },
  {
   "cell_type": "code",
   "execution_count": 136,
   "metadata": {},
   "outputs": [],
   "source": [
    "entry_columns = [station for station in dataset.columns if 'entry' in station]\n",
    "exit_columns = [station for station in dataset.columns if 'exit' in station]\n",
    "stations = entry_columns + exit_columns\n",
    "stations.sort()"
   ]
  },
  {
   "cell_type": "code",
   "execution_count": 137,
   "metadata": {},
   "outputs": [],
   "source": [
    "# for every station column change \"-\" values to 0\n",
    "for station in stations:\n",
    "    dataset[station] = dataset[station].apply(lambda n: n if str(n).isdigit() else 0)"
   ]
  },
  {
   "cell_type": "code",
   "execution_count": 138,
   "metadata": {},
   "outputs": [],
   "source": [
    "# change stations column type to numeric\n",
    "dataset[stations] = dataset[stations].apply(pd.to_numeric)"
   ]
  },
  {
   "cell_type": "code",
   "execution_count": 139,
   "metadata": {},
   "outputs": [],
   "source": [
    "# remove range in time column add rename it to hour\n",
    "dataset['hour'] = dataset['time'].apply(lambda h: int(h[:2]))\n",
    "del dataset['time']"
   ]
  },
  {
   "cell_type": "code",
   "execution_count": 140,
   "metadata": {},
   "outputs": [],
   "source": [
    "# trim month\n",
    "dataset['month'] = dataset['month'].apply(lambda m: m.strip())"
   ]
  },
  {
   "cell_type": "code",
   "execution_count": 141,
   "metadata": {},
   "outputs": [],
   "source": [
    "# fix day column cause for this dataset day starts at 03:00 and ends at 02:59\n",
    "first_row_string = ' '.join(str(v) for v in dataset[['year', 'month', 'day', 'hour']].loc[0].values)\n",
    "start_date = datetime.datetime.strptime(first_row_string, '%Y %B %d %H')\n",
    "current_date = start_date\n",
    "\n",
    "def get_true_datetime(date):\n",
    "    global current_date\n",
    "    \n",
    "    if date.hour == 0:\n",
    "        current_date = current_date + datetime.timedelta(days=1)\n",
    "\n",
    "    return [\n",
    "        current_date.year,\n",
    "        current_date.month,\n",
    "        current_date.day,\n",
    "        date.hour\n",
    "    ]\n",
    "\n",
    "dataset[['year', 'month', 'day', 'hour']] = dataset[['year', 'month', 'day', 'hour']].apply(lambda r: get_true_datetime(r), axis=1)"
   ]
  },
  {
   "cell_type": "code",
   "execution_count": 142,
   "metadata": {},
   "outputs": [],
   "source": [
    "# add timestamp column\n",
    "dataset['timestamp'] = dataset[['year', 'month', 'day', 'hour']].apply(lambda r: datetime.datetime(r.year, r.month, r.day, r.hour), axis=1)\n",
    "\n",
    "del dataset['year']\n",
    "del dataset['month']\n",
    "del dataset['day']\n",
    "del dataset['hour']"
   ]
  },
  {
   "cell_type": "code",
   "execution_count": 143,
   "metadata": {},
   "outputs": [],
   "source": [
    "dataset = dataset.set_index('timestamp', drop=False)"
   ]
  },
  {
   "cell_type": "code",
   "execution_count": 144,
   "metadata": {},
   "outputs": [],
   "source": [
    "#dataset.ix['2012-02-01':'2012-02-01'][['shaw_blvd_entry', 'shaw_blvd_exit']].plot(figsize=(30, 10))"
   ]
  },
  {
   "cell_type": "markdown",
   "metadata": {},
   "source": [
    "## What station has the highest number of people to enter and drop-off?"
   ]
  },
  {
   "cell_type": "markdown",
   "metadata": {},
   "source": [
    "**Taft Avenue Station** has the highest number of people to enter in the train followed by **North Avenue Station**. This make sense cause they are terminal stations.\n",
    "\n",
    "**Taft Avenue Station** has the highest number of people to drop-off in the train followed by **Cubao Station**. Same reason as the other one.\n",
    "\n",
    "**Cubao station** is connected to **LRT Line 2** and I think people use cubao to transfer to other line."
   ]
  },
  {
   "cell_type": "code",
   "execution_count": 145,
   "metadata": {},
   "outputs": [],
   "source": [
    "# get median of every entry and exit column\n",
    "stations_median = dataset[stations].median()"
   ]
  },
  {
   "cell_type": "code",
   "execution_count": 146,
   "metadata": {},
   "outputs": [
    {
     "data": {
      "text/plain": [
       "<matplotlib.axes._subplots.AxesSubplot at 0x7f61a7037ba8>"
      ]
     },
     "execution_count": 146,
     "metadata": {},
     "output_type": "execute_result"
    },
    {
     "data": {
      "image/png": "[encoded data removed]",
      "text/plain": [
       "<matplotlib.figure.Figure at 0x7f61a6cd62b0>"
      ]
     },
     "metadata": {},
     "output_type": "display_data"
    }
   ],
   "source": [
    "stations_median.plot(kind='bar', figsize=(15, 10))"
   ]
  },
  {
   "cell_type": "markdown",
   "metadata": {},
   "source": [
    "## What day usually has the highest number of people to use MRT?"
   ]
  },
  {
   "cell_type": "markdown",
   "metadata": {},
   "source": [
    "**Wednesday** has the highest number of people to use MRT but it has a very little difference for the rest of the weekdays.\n",
    "\n",
    "Comparing to **Friday** the traffic for **Saturday** went down by **9.75%** but it's still relatively high.\n",
    "\n",
    "Comparing to **Saturday** the traffic for **Sunday** went down by **31.70%**."
   ]
  },
  {
   "cell_type": "code",
   "execution_count": 147,
   "metadata": {},
   "outputs": [],
   "source": [
    "# get entry and exit columns for every station\n",
    "# from: https://stackoverflow.com/questions/24310945/group-items-by-string-pattern-in-python\n",
    "keyf = lambda text: text.split('_')[0]\n",
    "group_stations = [list(items) for gr, items in groupby(sorted(stations), key=keyf)]\n",
    "group_stations = [{ 'name': keyf(stations[0]), 'stations': stations } for stations in group_stations]"
   ]
  },
  {
   "cell_type": "code",
   "execution_count": 148,
   "metadata": {},
   "outputs": [],
   "source": [
    "# create weekday column from timestamp\n",
    "dataset['weekday'] = dataset['timestamp'].apply(lambda x: x.strftime('%A'))"
   ]
  },
  {
   "cell_type": "code",
   "execution_count": 150,
   "metadata": {},
   "outputs": [],
   "source": [
    "# group all entries by weekday and get the median\n",
    "weekday_df = dataset.groupby('weekday').agg('median')"
   ]
  },
  {
   "cell_type": "code",
   "execution_count": 151,
   "metadata": {},
   "outputs": [],
   "source": [
    "# get the mean of the entry and exit columns for every station\n",
    "for group in group_stations:\n",
    "    weekday_df[group['name']] = weekday_df[group['stations']].mean(axis=1)\n",
    "    \n",
    "    for station in group['stations']:\n",
    "        del weekday_df[station]"
   ]
  },
  {
   "cell_type": "code",
   "execution_count": 152,
   "metadata": {},
   "outputs": [
    {
     "data": {
      "text/plain": [
       "weekday\n",
       "Friday       1723.038462\n",
       "Monday       1773.461538\n",
       "Saturday     1555.000000\n",
       "Sunday       1062.500000\n",
       "Thursday     1795.057692\n",
       "Tuesday      1792.750000\n",
       "Wednesday    1885.153846\n",
       "dtype: float64"
      ]
     },
     "execution_count": 152,
     "metadata": {},
     "output_type": "execute_result"
    }
   ],
   "source": [
    "weekday_df_mean = weekday_df.mean(axis=1)\n",
    "weekday_df_mean"
   ]
  },
  {
   "cell_type": "code",
   "execution_count": 153,
   "metadata": {},
   "outputs": [
    {
     "data": {
      "text/plain": [
       "<matplotlib.axes._subplots.AxesSubplot at 0x7f61a711a5f8>"
      ]
     },
     "execution_count": 153,
     "metadata": {},
     "output_type": "execute_result"
    },
    {
     "data": {
      "image/png": "[encoded data removed]",
      "text/plain": [
       "<matplotlib.figure.Figure at 0x7f61a769a400>"
      ]
     },
     "metadata": {},
     "output_type": "display_data"
    }
   ],
   "source": [
    "weekday_df_mean.plot(kind='bar')"
   ]
  },
  {
   "cell_type": "markdown",
   "metadata": {},
   "source": [
    "## For every hour what station has the highest number of people to enter and leave?"
   ]
  },
  {
   "cell_type": "markdown",
   "metadata": {},
   "source": [
    "@TODO: answer"
   ]
  },
  {
   "cell_type": "code",
   "execution_count": 190,
   "metadata": {},
   "outputs": [],
   "source": [
    "hour_df = dataset.groupby(dataset['timestamp'].dt.hour).median().T\n",
    "entry_hour_df = dataset.groupby(dataset['timestamp'].dt.hour)[entry_columns].median().T\n",
    "exit_hour_df = dataset.groupby(dataset['timestamp'].dt.hour)[exit_columns].median().T"
   ]
  },
  {
   "cell_type": "code",
   "execution_count": 191,
   "metadata": {},
   "outputs": [
    {
     "data": {
      "text/plain": [
       "<matplotlib.axes._subplots.AxesSubplot at 0x7f61a1e38c50>"
      ]
     },
     "execution_count": 191,
     "metadata": {},
     "output_type": "execute_result"
    },
    {
     "data": {
      "image/png": "[encoded data removed]",
      "text/plain": [
       "<matplotlib.figure.Figure at 0x7f61a1dedb38>"
      ]
     },
     "metadata": {},
     "output_type": "display_data"
    }
   ],
   "source": [
    "f, ax = plt.subplots(figsize=(15, 8))\n",
    "sb.heatmap(entry_hour_df, annot=False, ax=ax, linewidths=.01)"
   ]
  },
  {
   "cell_type": "code",
   "execution_count": 192,
   "metadata": {},
   "outputs": [
    {
     "data": {
      "text/plain": [
       "<matplotlib.axes._subplots.AxesSubplot at 0x7f61a1d73438>"
      ]
     },
     "execution_count": 192,
     "metadata": {},
     "output_type": "execute_result"
    },
    {
     "data": {
      "image/png": "[encoded data removed]",
      "text/plain": [
       "<matplotlib.figure.Figure at 0x7f61a1d81668>"
      ]
     },
     "metadata": {},
     "output_type": "display_data"
    }
   ],
   "source": [
    "f, ax = plt.subplots(figsize=(15, 8))\n",
    "sb.heatmap(exit_hour_df, annot=False, ax=ax, linewidths=.01)"
   ]
  },
  {
   "cell_type": "code",
   "execution_count": 194,
   "metadata": {},
   "outputs": [],
   "source": [
    "# add line plot for every station to compare the entry and exit"
   ]
  },
  {
   "cell_type": "code",
   "execution_count": null,
   "metadata": {},
   "outputs": [],
   "source": []
  }
 ],
 "metadata": {
  "kernelspec": {
   "display_name": "Python 3",
   "language": "python",
   "name": "python3"
  },
  "language_info": {
   "codemirror_mode": {
    "name": "ipython",
    "version": 3
   },
   "file_extension": ".py",
   "mimetype": "text/x-python",
   "name": "python",
   "nbconvert_exporter": "python",
   "pygments_lexer": "ipython3",
   "version": "3.5.2"
  }
 },
 "nbformat": 4,
 "nbformat_minor": 2
}
